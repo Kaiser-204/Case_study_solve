{
 "cells": [
  {
   "cell_type": "code",
   "execution_count": 3,
   "id": "942d07b4",
   "metadata": {},
   "outputs": [
    {
     "name": "stdout",
     "output_type": "stream",
     "text": [
      "<class 'dict'>\n",
      "{'description': '', 'tags': [], 'size': {'height': 720, 'width': 1280}, 'objects': [{'id': 28636340, 'classId': 17389, 'description': '', 'geometryType': 'rectangle', 'labelerLogin': 'muyeed', 'createdAt': '2021-11-24T04:04:09.702Z', 'updatedAt': '2021-11-24T04:04:09.702Z', 'tags': [{'id': 29607253, 'tagId': 32296, 'name': 'Make', 'value': 'Mercedes-Benz', 'labelerLogin': 'muyeed', 'createdAt': '2021-11-24T04:04:09.702Z', 'updatedAt': '2021-11-24T04:04:09.702Z'}, {'id': 29607252, 'tagId': 32292, 'name': 'Type', 'value': 'SUV', 'labelerLogin': 'muyeed', 'createdAt': '2021-11-24T04:04:09.702Z', 'updatedAt': '2021-11-24T04:04:09.702Z'}, {'id': 29607251, 'tagId': 32295, 'name': 'Pose', 'value': 'Rear', 'labelerLogin': 'muyeed', 'createdAt': '2021-11-24T04:04:09.702Z', 'updatedAt': '2021-11-24T04:04:09.702Z'}, {'id': 29607250, 'tagId': 32297, 'name': 'Model', 'value': 'UN', 'labelerLogin': 'muyeed', 'createdAt': '2021-11-24T04:04:09.702Z', 'updatedAt': '2021-11-24T04:04:09.702Z'}, {'id': 29607249, 'tagId': 32291, 'name': 'Color', 'value': 'Silver', 'labelerLogin': 'muyeed', 'createdAt': '2021-11-24T04:04:09.702Z', 'updatedAt': '2021-11-24T04:04:09.702Z'}], 'classTitle': 'Vehicle', 'points': {'exterior': [[770, 0], [882, 306]], 'interior': []}}]}\n"
     ]
    }
   ],
   "source": [
    "import json\n",
    "with open(\"pos_10010.png.json\" , \"r\")as file :\n",
    "     data = json.load(file)\n",
    "     print(type(data))\n",
    "     print(data)\n",
    "     "
   ]
  },
  {
   "cell_type": "code",
   "execution_count": null,
   "id": "a0db9d1a",
   "metadata": {},
   "outputs": [],
   "source": []
  },
  {
   "cell_type": "code",
   "execution_count": null,
   "id": "6a7e6b01",
   "metadata": {},
   "outputs": [],
   "source": []
  }
 ],
 "metadata": {
  "kernelspec": {
   "display_name": "Python 3 (ipykernel)",
   "language": "python",
   "name": "python3"
  },
  "language_info": {
   "codemirror_mode": {
    "name": "ipython",
    "version": 3
   },
   "file_extension": ".py",
   "mimetype": "text/x-python",
   "name": "python",
   "nbconvert_exporter": "python",
   "pygments_lexer": "ipython3",
   "version": "3.9.12"
  }
 },
 "nbformat": 4,
 "nbformat_minor": 5
}
